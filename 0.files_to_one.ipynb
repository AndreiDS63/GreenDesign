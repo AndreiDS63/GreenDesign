{
 "cells": [
  {
   "cell_type": "code",
   "execution_count": 24,
   "metadata": {},
   "outputs": [],
   "source": [
    "import pandas as pd\n",
    "import numpy as np\n",
    "import os\n",
    "import matplotlib.pyplot as plt\n",
    "import seaborn as sns"
   ]
  },
  {
   "cell_type": "markdown",
   "metadata": {},
   "source": [
    "# <center> Подготовка таблиц и их сохранение в нормальном формате"
   ]
  },
  {
   "cell_type": "markdown",
   "metadata": {},
   "source": [
    "Все таблицы из папки input модифицируются (разъединяются соединенные ячейчки) и\n",
    "сохраняются в отдельный файл в папке output под названием result"
   ]
  },
  {
   "cell_type": "code",
   "execution_count": 25,
   "metadata": {},
   "outputs": [
    {
     "name": "stdout",
     "output_type": "stream",
     "text": [
      "Открываем файл База данных  Шкаповское ГПП.xlsx\n",
      "Запись файла База данных  Шкаповское ГПП.xlsx, размер таблицы (25, 72)\n",
      "\n",
      "Открываем файл База данных АО АНПЗ ВНК.xlsx\n",
      "Запись файла База данных АО АНПЗ ВНК.xlsx, размер таблицы (23, 71)\n",
      "\n"
     ]
    },
    {
     "name": "stderr",
     "output_type": "stream",
     "text": [
      "C:\\Users\\dolzh\\AppData\\Local\\Packages\\PythonSoftwareFoundation.Python.3.9_qbz5n2kfra8p0\\LocalCache\\local-packages\\Python39\\site-packages\\openpyxl\\worksheet\\_reader.py:312: UserWarning: Data Validation extension is not supported and will be removed\n",
      "  warn(msg)\n",
      "C:\\Users\\dolzh\\AppData\\Local\\Packages\\PythonSoftwareFoundation.Python.3.9_qbz5n2kfra8p0\\LocalCache\\local-packages\\Python39\\site-packages\\openpyxl\\worksheet\\_reader.py:312: UserWarning: Data Validation extension is not supported and will be removed\n",
      "  warn(msg)\n"
     ]
    },
    {
     "name": "stdout",
     "output_type": "stream",
     "text": [
      "Открываем файл База данных НК НПЗ.xlsx\n",
      "Запись файла База данных НК НПЗ.xlsx, размер таблицы (77, 71)\n",
      "\n",
      "Открываем файл База данных ННК.xlsx\n"
     ]
    },
    {
     "name": "stderr",
     "output_type": "stream",
     "text": [
      "C:\\Users\\dolzh\\AppData\\Local\\Packages\\PythonSoftwareFoundation.Python.3.9_qbz5n2kfra8p0\\LocalCache\\local-packages\\Python39\\site-packages\\openpyxl\\worksheet\\_reader.py:312: UserWarning: Data Validation extension is not supported and will be removed\n",
      "  warn(msg)\n",
      "C:\\Users\\dolzh\\AppData\\Local\\Packages\\PythonSoftwareFoundation.Python.3.9_qbz5n2kfra8p0\\LocalCache\\local-packages\\Python39\\site-packages\\openpyxl\\worksheet\\_reader.py:312: UserWarning: Data Validation extension is not supported and will be removed\n",
      "  warn(msg)\n"
     ]
    },
    {
     "name": "stdout",
     "output_type": "stream",
     "text": [
      "Запись файла База данных ННК.xlsx, размер таблицы (19, 71)\n",
      "\n",
      "Открываем файл База данных по инвентаризации ПГ - Отрадненский ГПЗ.xlsx\n",
      "Запись файла База данных по инвентаризации ПГ - Отрадненский ГПЗ.xlsx, размер таблицы (75, 72)\n",
      "\n"
     ]
    },
    {
     "name": "stderr",
     "output_type": "stream",
     "text": [
      "C:\\Users\\dolzh\\AppData\\Local\\Packages\\PythonSoftwareFoundation.Python.3.9_qbz5n2kfra8p0\\LocalCache\\local-packages\\Python39\\site-packages\\openpyxl\\worksheet\\_reader.py:312: UserWarning: Data Validation extension is not supported and will be removed\n",
      "  warn(msg)\n",
      "C:\\Users\\dolzh\\AppData\\Local\\Packages\\PythonSoftwareFoundation.Python.3.9_qbz5n2kfra8p0\\LocalCache\\local-packages\\Python39\\site-packages\\openpyxl\\worksheet\\_reader.py:312: UserWarning: Data Validation extension is not supported and will be removed\n",
      "  warn(msg)\n"
     ]
    },
    {
     "name": "stdout",
     "output_type": "stream",
     "text": [
      "Открываем файл База данных Туймазинское ГПП.xlsx\n",
      "Запись файла База данных Туймазинское ГПП.xlsx, размер таблицы (35, 71)\n",
      "\n"
     ]
    }
   ],
   "source": [
    "# путь к папке, где лежат сырые БД\n",
    "data_path = 'D:\\\\documents\\\\1_projects\\\\GreenDesign\\\\data\\\\input'\n",
    "# D:\\documents\\1_projects\\GreenDesign\\data\\input\n",
    "# путь для панд\n",
    "input_path = 'D:/documents/1_projects/GreenDesign/data/input/'\n",
    "output_path = 'D:/documents/1_projects/GreenDesign/data/output/'\n",
    "\n",
    "# цикл прохода по каждому из файлов\n",
    "for file_name in os.listdir(data_path):\n",
    "    # проверка на формат\n",
    "    \n",
    "    if file_name[-5:].lower() == '.xlsx':\n",
    "        print(f'Открываем файл {file_name}')\n",
    "        \n",
    "        # путь к файлу, чтобы панды прочитали эксель\n",
    "        file_path = input_path + file_name\n",
    "        \n",
    "        # прочитали эксель по заданному пути\n",
    "        df = pd.read_excel(file_path, skiprows=2, converters={'Номер ИЗАВ по ПДВ': str})\n",
    "                \n",
    "        # тут происходит корректировка столбцов\n",
    "        # по причине записи названий столбцов в 2 строки\n",
    "        for i in df.columns:\n",
    "            # если тип второй строки str\n",
    "            if type(df.iloc[0][i]) == str:\n",
    "                # и если сама колонка с именем\n",
    "                if 'Unnamed' not in i:\n",
    "                    # создаем временную переменную, которая содержит в себе название\n",
    "                    # широкого (объединенного) столбца (самой текущей колонки)\n",
    "                    current_name = i.strip()\n",
    "                # получаем новое имя, складывая названия из двух строк\n",
    "                new_name = current_name + ' (' + df.iloc[0][i].strip() + ')'\n",
    "                # переименовываем столбцы с учетом второй строки\n",
    "                df = df.rename(columns={i: new_name})\n",
    "                \n",
    "                \n",
    "        # удаляем нулевую строку и сбрасываем индексы\n",
    "        df = df.drop(axis=0, index=0).reset_index(drop=True)\n",
    "        \n",
    "        # удалили все столбцы с названием unnamed (на этот момент это должен быть только 3 столбец)\n",
    "        for i in df.columns:\n",
    "            if 'Unnamed' in i:\n",
    "                df = df.drop([i], axis=1)\n",
    "                \n",
    "        # удалим столбец с нумерацией (так как у нас есть своя)\n",
    "        df = df.drop(['№'], axis=1)\n",
    "        \n",
    "        # заполняем пропуски в некоторых столбцах\n",
    "        df[['Наименование ОГ',\\\n",
    "            'Наименование площадки',\\\n",
    "            'Субъект РФ',\\\n",
    "            'Объект предприятия',\\\n",
    "            'Оборудование/ процесс с выделением ПГ',\\\n",
    "            'Номер ИЗАВ по ПДВ',\\\n",
    "            'Тип ИЗАВ (организованный/неорганизованный)'\n",
    "        ]] = df[['Наименование ОГ',\\\n",
    "            'Наименование площадки',\\\n",
    "            'Субъект РФ',\\\n",
    "            'Объект предприятия',\\\n",
    "            'Оборудование/ процесс с выделением ПГ',\\\n",
    "            'Номер ИЗАВ по ПДВ',\n",
    "            'Тип ИЗАВ (организованный/неорганизованный)'\n",
    "        ]].fillna(method='ffill')\n",
    "        \n",
    "        # сохраняем файл в новую папку\n",
    "        new_file_path = output_path  + file_name\n",
    "        print(f'Запись файла {file_name}, размер таблицы {df.shape}')\n",
    "        print()\n",
    "        df.to_excel(new_file_path)"
   ]
  },
  {
   "cell_type": "markdown",
   "metadata": {},
   "source": [
    "## <center> 2. Конкатенация таблиц в результирующий файл"
   ]
  },
  {
   "cell_type": "code",
   "execution_count": 26,
   "metadata": {},
   "outputs": [
    {
     "name": "stdout",
     "output_type": "stream",
     "text": [
      "Записываем в переменную файл База данных  Шкаповское ГПП.xlsx\n",
      "Записываем в переменную файл База данных АО АНПЗ ВНК.xlsx\n",
      "Записываем в переменную файл База данных НК НПЗ.xlsx\n",
      "Записываем в переменную файл База данных ННК.xlsx\n",
      "Записываем в переменную файл База данных по инвентаризации ПГ - Отрадненский ГПЗ.xlsx\n",
      "Записываем в переменную файл База данных Туймазинское ГПП.xlsx\n"
     ]
    }
   ],
   "source": [
    "# путь для os\n",
    "data_path = 'D:\\\\documents\\\\1_projects\\\\GreenDesign\\\\data\\\\output'\n",
    "\n",
    "# задаем результирующий датафрейм\n",
    "result = pd.DataFrame()\n",
    "\n",
    "for file_name in os.listdir(data_path):\n",
    "    # создаем словарь с датафреймами\n",
    "    \n",
    "    \n",
    "    # проверка на то, чтобы это был не Result\n",
    "    if file_name[:6] != 'result':\n",
    "        \n",
    "        # имя в соответсвии с каунтом\n",
    "        # name = 'df' + str(count)\n",
    "        \n",
    "        print(f'Записываем в переменную файл {file_name}')\n",
    "        file_path = 'D:/documents/1_projects/GreenDesign/data/output/' + file_name\n",
    "        df = pd.read_excel(file_path, converters={'Номер ИЗАВ по ПДВ': str})\n",
    "        df = df.drop(['Unnamed: 0'], axis=1)\n",
    "        result = pd.concat([result, df], ignore_index=True)\n",
    "       \n",
    "result.to_excel(output_path + 'result.xlsx')"
   ]
  }
 ],
 "metadata": {
  "kernelspec": {
   "display_name": "Python 3.9.13 64-bit (microsoft store)",
   "language": "python",
   "name": "python3"
  },
  "language_info": {
   "codemirror_mode": {
    "name": "ipython",
    "version": 3
   },
   "file_extension": ".py",
   "mimetype": "text/x-python",
   "name": "python",
   "nbconvert_exporter": "python",
   "pygments_lexer": "ipython3",
   "version": "3.9.13"
  },
  "orig_nbformat": 4,
  "vscode": {
   "interpreter": {
    "hash": "cd4451104da11d2cb68898e7168ea5da44abbdb4e9427c2e53ca7c1916134f31"
   }
  }
 },
 "nbformat": 4,
 "nbformat_minor": 2
}
